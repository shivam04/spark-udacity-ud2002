{
 "cells": [
  {
   "cell_type": "markdown",
   "metadata": {},
   "source": [
    "# Data Wrangling with DataFrames Coding Quiz\n",
    "\n",
    "Use this Jupyter notebook to find the answers to the quiz in the previous section. There is an answer key in the next part of the lesson."
   ]
  },
  {
   "cell_type": "code",
   "execution_count": 1,
   "metadata": {},
   "outputs": [],
   "source": [
    "from pyspark.sql import SparkSession\n",
    "from pyspark.sql.functions import udf\n",
    "from pyspark.sql.types import StringType\n",
    "from pyspark.sql.types import IntegerType\n",
    "from pyspark.sql.functions import desc\n",
    "from pyspark.sql.functions import asc\n",
    "from pyspark.sql.functions import sum as Fsum\n",
    "\n",
    "import datetime\n",
    "\n",
    "import numpy as np\n",
    "import pandas as pd\n",
    "%matplotlib inline\n",
    "import matplotlib.pyplot as plt"
   ]
  },
  {
   "cell_type": "code",
   "execution_count": 2,
   "metadata": {},
   "outputs": [],
   "source": [
    "spark = SparkSession \\\n",
    "    .builder \\\n",
    "    .appName(\"Wrangling Data Quiz\") \\\n",
    "    .getOrCreate()"
   ]
  },
  {
   "cell_type": "code",
   "execution_count": 3,
   "metadata": {},
   "outputs": [],
   "source": [
    "path = \"data/sparkify_log_small.json\"\n",
    "user_log = spark.read.json(path)"
   ]
  },
  {
   "cell_type": "code",
   "execution_count": 35,
   "metadata": {},
   "outputs": [
    {
     "name": "stdout",
     "output_type": "stream",
     "text": [
      "+----------------+\n",
      "|            page|\n",
      "+----------------+\n",
      "|           About|\n",
      "|       Downgrade|\n",
      "|           Error|\n",
      "|            Help|\n",
      "|            Home|\n",
      "|           Login|\n",
      "|          Logout|\n",
      "|        NextSong|\n",
      "|   Save Settings|\n",
      "|        Settings|\n",
      "|Submit Downgrade|\n",
      "|  Submit Upgrade|\n",
      "|         Upgrade|\n",
      "+----------------+\n",
      "\n"
     ]
    }
   ],
   "source": [
    "user_log.select(\"page\").dropDuplicates().sort(\"page\").show()"
   ]
  },
  {
   "cell_type": "markdown",
   "metadata": {},
   "source": [
    "# Question 1\n",
    "\n",
    "Which page did user id \"\" (empty string) NOT visit?"
   ]
  },
  {
   "cell_type": "code",
   "execution_count": 8,
   "metadata": {},
   "outputs": [
    {
     "name": "stdout",
     "output_type": "stream",
     "text": [
      "+-----+\n",
      "| page|\n",
      "+-----+\n",
      "|About|\n",
      "| Help|\n",
      "| Home|\n",
      "|Login|\n",
      "+-----+\n",
      "\n"
     ]
    }
   ],
   "source": [
    "user_log.select(\"page\").where(user_log.userId == \"\").dropDuplicates().sort(\"page\").show()"
   ]
  },
  {
   "cell_type": "markdown",
   "metadata": {},
   "source": [
    "# Question 2 - Reflect\n",
    "\n",
    "What type of user does the empty string user id most likely refer to?\n"
   ]
  },
  {
   "cell_type": "code",
   "execution_count": 11,
   "metadata": {},
   "outputs": [
    {
     "data": {
      "text/plain": [
       "[Row(userId='', firstname=None, page='Login', song=None),\n",
       " Row(userId='', firstname=None, page='Home', song=None),\n",
       " Row(userId='', firstname=None, page='Home', song=None),\n",
       " Row(userId='', firstname=None, page='Home', song=None),\n",
       " Row(userId='', firstname=None, page='Login', song=None),\n",
       " Row(userId='', firstname=None, page='Login', song=None),\n",
       " Row(userId='', firstname=None, page='Home', song=None),\n",
       " Row(userId='', firstname=None, page='Home', song=None),\n",
       " Row(userId='', firstname=None, page='Login', song=None),\n",
       " Row(userId='', firstname=None, page='Home', song=None),\n",
       " Row(userId='', firstname=None, page='Login', song=None),\n",
       " Row(userId='', firstname=None, page='Home', song=None),\n",
       " Row(userId='', firstname=None, page='Help', song=None),\n",
       " Row(userId='', firstname=None, page='Home', song=None),\n",
       " Row(userId='', firstname=None, page='Login', song=None),\n",
       " Row(userId='', firstname=None, page='Home', song=None),\n",
       " Row(userId='', firstname=None, page='Login', song=None),\n",
       " Row(userId='', firstname=None, page='Home', song=None),\n",
       " Row(userId='', firstname=None, page='Login', song=None),\n",
       " Row(userId='', firstname=None, page='Home', song=None),\n",
       " Row(userId='', firstname=None, page='Login', song=None),\n",
       " Row(userId='', firstname=None, page='Home', song=None),\n",
       " Row(userId='', firstname=None, page='About', song=None),\n",
       " Row(userId='', firstname=None, page='Login', song=None),\n",
       " Row(userId='', firstname=None, page='Home', song=None),\n",
       " Row(userId='', firstname=None, page='Login', song=None),\n",
       " Row(userId='', firstname=None, page='Home', song=None),\n",
       " Row(userId='', firstname=None, page='Login', song=None),\n",
       " Row(userId='', firstname=None, page='Home', song=None),\n",
       " Row(userId='', firstname=None, page='Login', song=None),\n",
       " Row(userId='', firstname=None, page='Home', song=None),\n",
       " Row(userId='', firstname=None, page='Home', song=None),\n",
       " Row(userId='', firstname=None, page='About', song=None),\n",
       " Row(userId='', firstname=None, page='Home', song=None),\n",
       " Row(userId='', firstname=None, page='Home', song=None),\n",
       " Row(userId='', firstname=None, page='Home', song=None),\n",
       " Row(userId='', firstname=None, page='About', song=None),\n",
       " Row(userId='', firstname=None, page='Home', song=None),\n",
       " Row(userId='', firstname=None, page='About', song=None),\n",
       " Row(userId='', firstname=None, page='Home', song=None),\n",
       " Row(userId='', firstname=None, page='Home', song=None),\n",
       " Row(userId='', firstname=None, page='Help', song=None),\n",
       " Row(userId='', firstname=None, page='Home', song=None),\n",
       " Row(userId='', firstname=None, page='Login', song=None),\n",
       " Row(userId='', firstname=None, page='Home', song=None),\n",
       " Row(userId='', firstname=None, page='Home', song=None),\n",
       " Row(userId='', firstname=None, page='Login', song=None),\n",
       " Row(userId='', firstname=None, page='Home', song=None),\n",
       " Row(userId='', firstname=None, page='Login', song=None),\n",
       " Row(userId='', firstname=None, page='Home', song=None),\n",
       " Row(userId='', firstname=None, page='Home', song=None),\n",
       " Row(userId='', firstname=None, page='Login', song=None),\n",
       " Row(userId='', firstname=None, page='Home', song=None),\n",
       " Row(userId='', firstname=None, page='About', song=None),\n",
       " Row(userId='', firstname=None, page='Home', song=None),\n",
       " Row(userId='', firstname=None, page='Login', song=None),\n",
       " Row(userId='', firstname=None, page='Home', song=None),\n",
       " Row(userId='', firstname=None, page='Home', song=None),\n",
       " Row(userId='', firstname=None, page='Home', song=None),\n",
       " Row(userId='', firstname=None, page='About', song=None),\n",
       " Row(userId='', firstname=None, page='Login', song=None),\n",
       " Row(userId='', firstname=None, page='Home', song=None),\n",
       " Row(userId='', firstname=None, page='About', song=None),\n",
       " Row(userId='', firstname=None, page='Home', song=None),\n",
       " Row(userId='', firstname=None, page='Home', song=None),\n",
       " Row(userId='', firstname=None, page='Login', song=None),\n",
       " Row(userId='', firstname=None, page='Login', song=None),\n",
       " Row(userId='', firstname=None, page='Home', song=None),\n",
       " Row(userId='', firstname=None, page='Home', song=None),\n",
       " Row(userId='', firstname=None, page='Login', song=None),\n",
       " Row(userId='', firstname=None, page='Home', song=None),\n",
       " Row(userId='', firstname=None, page='Login', song=None),\n",
       " Row(userId='', firstname=None, page='Home', song=None),\n",
       " Row(userId='', firstname=None, page='Home', song=None),\n",
       " Row(userId='', firstname=None, page='Help', song=None),\n",
       " Row(userId='', firstname=None, page='Login', song=None),\n",
       " Row(userId='', firstname=None, page='Home', song=None),\n",
       " Row(userId='', firstname=None, page='Login', song=None),\n",
       " Row(userId='', firstname=None, page='Login', song=None),\n",
       " Row(userId='', firstname=None, page='Home', song=None),\n",
       " Row(userId='', firstname=None, page='Home', song=None),\n",
       " Row(userId='', firstname=None, page='Home', song=None),\n",
       " Row(userId='', firstname=None, page='Login', song=None),\n",
       " Row(userId='', firstname=None, page='Home', song=None),\n",
       " Row(userId='', firstname=None, page='Login', song=None),\n",
       " Row(userId='', firstname=None, page='Home', song=None),\n",
       " Row(userId='', firstname=None, page='Login', song=None),\n",
       " Row(userId='', firstname=None, page='Login', song=None),\n",
       " Row(userId='', firstname=None, page='Home', song=None),\n",
       " Row(userId='', firstname=None, page='Login', song=None),\n",
       " Row(userId='', firstname=None, page='Home', song=None),\n",
       " Row(userId='', firstname=None, page='About', song=None),\n",
       " Row(userId='', firstname=None, page='Home', song=None),\n",
       " Row(userId='', firstname=None, page='Home', song=None),\n",
       " Row(userId='', firstname=None, page='Home', song=None),\n",
       " Row(userId='', firstname=None, page='Login', song=None),\n",
       " Row(userId='', firstname=None, page='Home', song=None),\n",
       " Row(userId='', firstname=None, page='Login', song=None),\n",
       " Row(userId='', firstname=None, page='Home', song=None),\n",
       " Row(userId='', firstname=None, page='Login', song=None),\n",
       " Row(userId='', firstname=None, page='Home', song=None),\n",
       " Row(userId='', firstname=None, page='Login', song=None),\n",
       " Row(userId='', firstname=None, page='Home', song=None),\n",
       " Row(userId='', firstname=None, page='Login', song=None),\n",
       " Row(userId='', firstname=None, page='Home', song=None),\n",
       " Row(userId='', firstname=None, page='About', song=None),\n",
       " Row(userId='', firstname=None, page='Home', song=None),\n",
       " Row(userId='', firstname=None, page='Login', song=None),\n",
       " Row(userId='', firstname=None, page='Home', song=None),\n",
       " Row(userId='', firstname=None, page='Login', song=None),\n",
       " Row(userId='', firstname=None, page='Home', song=None),\n",
       " Row(userId='', firstname=None, page='Login', song=None),\n",
       " Row(userId='', firstname=None, page='Home', song=None),\n",
       " Row(userId='', firstname=None, page='Login', song=None),\n",
       " Row(userId='', firstname=None, page='Home', song=None),\n",
       " Row(userId='', firstname=None, page='Login', song=None),\n",
       " Row(userId='', firstname=None, page='Login', song=None),\n",
       " Row(userId='', firstname=None, page='Login', song=None),\n",
       " Row(userId='', firstname=None, page='Login', song=None),\n",
       " Row(userId='', firstname=None, page='Home', song=None),\n",
       " Row(userId='', firstname=None, page='Home', song=None),\n",
       " Row(userId='', firstname=None, page='Home', song=None),\n",
       " Row(userId='', firstname=None, page='Home', song=None),\n",
       " Row(userId='', firstname=None, page='Login', song=None),\n",
       " Row(userId='', firstname=None, page='Home', song=None),\n",
       " Row(userId='', firstname=None, page='Home', song=None),\n",
       " Row(userId='', firstname=None, page='Home', song=None),\n",
       " Row(userId='', firstname=None, page='Help', song=None),\n",
       " Row(userId='', firstname=None, page='Login', song=None),\n",
       " Row(userId='', firstname=None, page='Home', song=None),\n",
       " Row(userId='', firstname=None, page='Login', song=None),\n",
       " Row(userId='', firstname=None, page='Home', song=None),\n",
       " Row(userId='', firstname=None, page='Home', song=None),\n",
       " Row(userId='', firstname=None, page='Home', song=None),\n",
       " Row(userId='', firstname=None, page='Login', song=None),\n",
       " Row(userId='', firstname=None, page='About', song=None),\n",
       " Row(userId='', firstname=None, page='Login', song=None),\n",
       " Row(userId='', firstname=None, page='Home', song=None),\n",
       " Row(userId='', firstname=None, page='Home', song=None),\n",
       " Row(userId='', firstname=None, page='Home', song=None),\n",
       " Row(userId='', firstname=None, page='Home', song=None),\n",
       " Row(userId='', firstname=None, page='Login', song=None),\n",
       " Row(userId='', firstname=None, page='Home', song=None),\n",
       " Row(userId='', firstname=None, page='Home', song=None),\n",
       " Row(userId='', firstname=None, page='Login', song=None),\n",
       " Row(userId='', firstname=None, page='Home', song=None),\n",
       " Row(userId='', firstname=None, page='Home', song=None),\n",
       " Row(userId='', firstname=None, page='Login', song=None),\n",
       " Row(userId='', firstname=None, page='Login', song=None),\n",
       " Row(userId='', firstname=None, page='Home', song=None),\n",
       " Row(userId='', firstname=None, page='Login', song=None),\n",
       " Row(userId='', firstname=None, page='Home', song=None),\n",
       " Row(userId='', firstname=None, page='Home', song=None),\n",
       " Row(userId='', firstname=None, page='Home', song=None),\n",
       " Row(userId='', firstname=None, page='Login', song=None),\n",
       " Row(userId='', firstname=None, page='Home', song=None),\n",
       " Row(userId='', firstname=None, page='Login', song=None),\n",
       " Row(userId='', firstname=None, page='Home', song=None),\n",
       " Row(userId='', firstname=None, page='Login', song=None),\n",
       " Row(userId='', firstname=None, page='Home', song=None),\n",
       " Row(userId='', firstname=None, page='Login', song=None),\n",
       " Row(userId='', firstname=None, page='Home', song=None),\n",
       " Row(userId='', firstname=None, page='Login', song=None),\n",
       " Row(userId='', firstname=None, page='Home', song=None),\n",
       " Row(userId='', firstname=None, page='Login', song=None),\n",
       " Row(userId='', firstname=None, page='Login', song=None),\n",
       " Row(userId='', firstname=None, page='Home', song=None),\n",
       " Row(userId='', firstname=None, page='Home', song=None),\n",
       " Row(userId='', firstname=None, page='Login', song=None),\n",
       " Row(userId='', firstname=None, page='Home', song=None),\n",
       " Row(userId='', firstname=None, page='Login', song=None),\n",
       " Row(userId='', firstname=None, page='Home', song=None),\n",
       " Row(userId='', firstname=None, page='Login', song=None),\n",
       " Row(userId='', firstname=None, page='Home', song=None),\n",
       " Row(userId='', firstname=None, page='About', song=None),\n",
       " Row(userId='', firstname=None, page='Home', song=None),\n",
       " Row(userId='', firstname=None, page='Home', song=None),\n",
       " Row(userId='', firstname=None, page='Home', song=None),\n",
       " Row(userId='', firstname=None, page='Login', song=None),\n",
       " Row(userId='', firstname=None, page='Home', song=None),\n",
       " Row(userId='', firstname=None, page='Home', song=None),\n",
       " Row(userId='', firstname=None, page='Login', song=None),\n",
       " Row(userId='', firstname=None, page='Login', song=None),\n",
       " Row(userId='', firstname=None, page='Home', song=None),\n",
       " Row(userId='', firstname=None, page='Home', song=None),\n",
       " Row(userId='', firstname=None, page='Login', song=None),\n",
       " Row(userId='', firstname=None, page='Home', song=None),\n",
       " Row(userId='', firstname=None, page='Home', song=None),\n",
       " Row(userId='', firstname=None, page='Home', song=None),\n",
       " Row(userId='', firstname=None, page='Login', song=None),\n",
       " Row(userId='', firstname=None, page='Home', song=None),\n",
       " Row(userId='', firstname=None, page='Home', song=None),\n",
       " Row(userId='', firstname=None, page='Home', song=None),\n",
       " Row(userId='', firstname=None, page='Login', song=None),\n",
       " Row(userId='', firstname=None, page='Login', song=None),\n",
       " Row(userId='', firstname=None, page='Home', song=None),\n",
       " Row(userId='', firstname=None, page='Login', song=None),\n",
       " Row(userId='', firstname=None, page='Home', song=None),\n",
       " Row(userId='', firstname=None, page='Home', song=None),\n",
       " Row(userId='', firstname=None, page='Login', song=None),\n",
       " Row(userId='', firstname=None, page='Home', song=None),\n",
       " Row(userId='', firstname=None, page='Home', song=None),\n",
       " Row(userId='', firstname=None, page='About', song=None),\n",
       " Row(userId='', firstname=None, page='Home', song=None),\n",
       " Row(userId='', firstname=None, page='Login', song=None),\n",
       " Row(userId='', firstname=None, page='Home', song=None),\n",
       " Row(userId='', firstname=None, page='Home', song=None),\n",
       " Row(userId='', firstname=None, page='Login', song=None),\n",
       " Row(userId='', firstname=None, page='Login', song=None),\n",
       " Row(userId='', firstname=None, page='Home', song=None),\n",
       " Row(userId='', firstname=None, page='Login', song=None),\n",
       " Row(userId='', firstname=None, page='Home', song=None),\n",
       " Row(userId='', firstname=None, page='Help', song=None),\n",
       " Row(userId='', firstname=None, page='Home', song=None),\n",
       " Row(userId='', firstname=None, page='Home', song=None),\n",
       " Row(userId='', firstname=None, page='Home', song=None),\n",
       " Row(userId='', firstname=None, page='Login', song=None),\n",
       " Row(userId='', firstname=None, page='Home', song=None),\n",
       " Row(userId='', firstname=None, page='Login', song=None),\n",
       " Row(userId='', firstname=None, page='Home', song=None),\n",
       " Row(userId='', firstname=None, page='Login', song=None),\n",
       " Row(userId='', firstname=None, page='Login', song=None),\n",
       " Row(userId='', firstname=None, page='Login', song=None),\n",
       " Row(userId='', firstname=None, page='Home', song=None),\n",
       " Row(userId='', firstname=None, page='Login', song=None),\n",
       " Row(userId='', firstname=None, page='Home', song=None),\n",
       " Row(userId='', firstname=None, page='Login', song=None),\n",
       " Row(userId='', firstname=None, page='Home', song=None),\n",
       " Row(userId='', firstname=None, page='Home', song=None),\n",
       " Row(userId='', firstname=None, page='Login', song=None),\n",
       " Row(userId='', firstname=None, page='Home', song=None),\n",
       " Row(userId='', firstname=None, page='Home', song=None),\n",
       " Row(userId='', firstname=None, page='Home', song=None),\n",
       " Row(userId='', firstname=None, page='Home', song=None),\n",
       " Row(userId='', firstname=None, page='Login', song=None),\n",
       " Row(userId='', firstname=None, page='Home', song=None),\n",
       " Row(userId='', firstname=None, page='Home', song=None),\n",
       " Row(userId='', firstname=None, page='Home', song=None),\n",
       " Row(userId='', firstname=None, page='Login', song=None),\n",
       " Row(userId='', firstname=None, page='Home', song=None),\n",
       " Row(userId='', firstname=None, page='Home', song=None),\n",
       " Row(userId='', firstname=None, page='Login', song=None),\n",
       " Row(userId='', firstname=None, page='Home', song=None),\n",
       " Row(userId='', firstname=None, page='Login', song=None),\n",
       " Row(userId='', firstname=None, page='Home', song=None),\n",
       " Row(userId='', firstname=None, page='Help', song=None),\n",
       " Row(userId='', firstname=None, page='Login', song=None),\n",
       " Row(userId='', firstname=None, page='Home', song=None),\n",
       " Row(userId='', firstname=None, page='Login', song=None),\n",
       " Row(userId='', firstname=None, page='Home', song=None),\n",
       " Row(userId='', firstname=None, page='Login', song=None),\n",
       " Row(userId='', firstname=None, page='Home', song=None),\n",
       " Row(userId='', firstname=None, page='Home', song=None),\n",
       " Row(userId='', firstname=None, page='Help', song=None),\n",
       " Row(userId='', firstname=None, page='Login', song=None),\n",
       " Row(userId='', firstname=None, page='Home', song=None),\n",
       " Row(userId='', firstname=None, page='Home', song=None),\n",
       " Row(userId='', firstname=None, page='Home', song=None),\n",
       " Row(userId='', firstname=None, page='Login', song=None),\n",
       " Row(userId='', firstname=None, page='Home', song=None),\n",
       " Row(userId='', firstname=None, page='Login', song=None),\n",
       " Row(userId='', firstname=None, page='Home', song=None),\n",
       " Row(userId='', firstname=None, page='Home', song=None),\n",
       " Row(userId='', firstname=None, page='Login', song=None),\n",
       " Row(userId='', firstname=None, page='Home', song=None),\n",
       " Row(userId='', firstname=None, page='Help', song=None),\n",
       " Row(userId='', firstname=None, page='Login', song=None),\n",
       " Row(userId='', firstname=None, page='Login', song=None),\n",
       " Row(userId='', firstname=None, page='Home', song=None),\n",
       " Row(userId='', firstname=None, page='Login', song=None),\n",
       " Row(userId='', firstname=None, page='Home', song=None),\n",
       " Row(userId='', firstname=None, page='Home', song=None),\n",
       " Row(userId='', firstname=None, page='Login', song=None),\n",
       " Row(userId='', firstname=None, page='Home', song=None),\n",
       " Row(userId='', firstname=None, page='Login', song=None),\n",
       " Row(userId='', firstname=None, page='Home', song=None),\n",
       " Row(userId='', firstname=None, page='Login', song=None),\n",
       " Row(userId='', firstname=None, page='Login', song=None),\n",
       " Row(userId='', firstname=None, page='Login', song=None),\n",
       " Row(userId='', firstname=None, page='Home', song=None),\n",
       " Row(userId='', firstname=None, page='Login', song=None),\n",
       " Row(userId='', firstname=None, page='Login', song=None),\n",
       " Row(userId='', firstname=None, page='Home', song=None),\n",
       " Row(userId='', firstname=None, page='Home', song=None),\n",
       " Row(userId='', firstname=None, page='Login', song=None),\n",
       " Row(userId='', firstname=None, page='Home', song=None),\n",
       " Row(userId='', firstname=None, page='Login', song=None),\n",
       " Row(userId='', firstname=None, page='Home', song=None),\n",
       " Row(userId='', firstname=None, page='Home', song=None),\n",
       " Row(userId='', firstname=None, page='Home', song=None),\n",
       " Row(userId='', firstname=None, page='Home', song=None),\n",
       " Row(userId='', firstname=None, page='Home', song=None),\n",
       " Row(userId='', firstname=None, page='Login', song=None),\n",
       " Row(userId='', firstname=None, page='Home', song=None),\n",
       " Row(userId='', firstname=None, page='Login', song=None),\n",
       " Row(userId='', firstname=None, page='Home', song=None),\n",
       " Row(userId='', firstname=None, page='Login', song=None),\n",
       " Row(userId='', firstname=None, page='Login', song=None),\n",
       " Row(userId='', firstname=None, page='Home', song=None),\n",
       " Row(userId='', firstname=None, page='Home', song=None),\n",
       " Row(userId='', firstname=None, page='Home', song=None),\n",
       " Row(userId='', firstname=None, page='Login', song=None),\n",
       " Row(userId='', firstname=None, page='Home', song=None),\n",
       " Row(userId='', firstname=None, page='Login', song=None),\n",
       " Row(userId='', firstname=None, page='Home', song=None),\n",
       " Row(userId='', firstname=None, page='About', song=None),\n",
       " Row(userId='', firstname=None, page='Home', song=None),\n",
       " Row(userId='', firstname=None, page='Login', song=None),\n",
       " Row(userId='', firstname=None, page='Home', song=None),\n",
       " Row(userId='', firstname=None, page='Login', song=None),\n",
       " Row(userId='', firstname=None, page='Home', song=None),\n",
       " Row(userId='', firstname=None, page='Home', song=None),\n",
       " Row(userId='', firstname=None, page='Login', song=None),\n",
       " Row(userId='', firstname=None, page='Home', song=None),\n",
       " Row(userId='', firstname=None, page='Home', song=None),\n",
       " Row(userId='', firstname=None, page='Login', song=None),\n",
       " Row(userId='', firstname=None, page='Home', song=None),\n",
       " Row(userId='', firstname=None, page='Login', song=None),\n",
       " Row(userId='', firstname=None, page='Login', song=None),\n",
       " Row(userId='', firstname=None, page='Home', song=None),\n",
       " Row(userId='', firstname=None, page='Login', song=None),\n",
       " Row(userId='', firstname=None, page='Login', song=None),\n",
       " Row(userId='', firstname=None, page='Home', song=None),\n",
       " Row(userId='', firstname=None, page='Home', song=None),\n",
       " Row(userId='', firstname=None, page='Home', song=None),\n",
       " Row(userId='', firstname=None, page='Login', song=None),\n",
       " Row(userId='', firstname=None, page='About', song=None),\n",
       " Row(userId='', firstname=None, page='Home', song=None),\n",
       " Row(userId='', firstname=None, page='About', song=None),\n",
       " Row(userId='', firstname=None, page='Login', song=None),\n",
       " Row(userId='', firstname=None, page='Home', song=None),\n",
       " Row(userId='', firstname=None, page='Login', song=None),\n",
       " Row(userId='', firstname=None, page='Home', song=None),\n",
       " Row(userId='', firstname=None, page='Home', song=None),\n",
       " Row(userId='', firstname=None, page='Login', song=None),\n",
       " Row(userId='', firstname=None, page='Home', song=None)]"
      ]
     },
     "execution_count": 11,
     "metadata": {},
     "output_type": "execute_result"
    }
   ],
   "source": [
    "# TODO: use this space to explore the behavior of the user with an empty string\n",
    "user_log.select([\"userId\", \"firstname\", \"page\", \"song\"]).where(user_log.userId == \"\").collect()\n",
    "# No new songs played, so likely a guest user visiting the app/site"
   ]
  },
  {
   "cell_type": "markdown",
   "metadata": {},
   "source": [
    "# Question 3\n",
    "\n",
    "How many female users do we have in the data set?"
   ]
  },
  {
   "cell_type": "code",
   "execution_count": 12,
   "metadata": {},
   "outputs": [
    {
     "data": {
      "text/plain": [
       "462"
      ]
     },
     "execution_count": 12,
     "metadata": {},
     "output_type": "execute_result"
    }
   ],
   "source": [
    "# TODO: write your code to answer question 3\n",
    "user_log.select([\"userId\", \"gender\"]).where(user_log.gender == \"F\").dropDuplicates().count()"
   ]
  },
  {
   "cell_type": "markdown",
   "metadata": {},
   "source": [
    "# Question 4\n",
    "\n",
    "How many songs were played from the most played artist?"
   ]
  },
  {
   "cell_type": "code",
   "execution_count": 13,
   "metadata": {},
   "outputs": [
    {
     "name": "stdout",
     "output_type": "stream",
     "text": [
      "+--------------------+-----+\n",
      "|              artist|count|\n",
      "+--------------------+-----+\n",
      "|                null| 1653|\n",
      "|            Coldplay|   83|\n",
      "|       Kings Of Leon|   69|\n",
      "|Florence + The Ma...|   52|\n",
      "|            BjÃÂ¶rk|   46|\n",
      "|       Dwight Yoakam|   45|\n",
      "|       Justin Bieber|   43|\n",
      "|      The Black Keys|   40|\n",
      "|         OneRepublic|   37|\n",
      "|                Muse|   36|\n",
      "|        Jack Johnson|   36|\n",
      "|           Radiohead|   31|\n",
      "|        Taylor Swift|   29|\n",
      "|Barry Tuckwell/Ac...|   28|\n",
      "|          Lily Allen|   28|\n",
      "|               Train|   28|\n",
      "|           Daft Punk|   27|\n",
      "|           Metallica|   27|\n",
      "|          Nickelback|   27|\n",
      "|          Kanye West|   26|\n",
      "+--------------------+-----+\n",
      "only showing top 20 rows\n",
      "\n"
     ]
    }
   ],
   "source": [
    "# TODO: write your code to answer question 4\n",
    "from pyspark.sql.functions import desc\n",
    "\n",
    "user_log.groupBy(\"artist\").count().sort(desc(\"count\")).show()"
   ]
  },
  {
   "cell_type": "code",
   "execution_count": 14,
   "metadata": {},
   "outputs": [
    {
     "data": {
      "text/plain": [
       "83"
      ]
     },
     "execution_count": 14,
     "metadata": {},
     "output_type": "execute_result"
    }
   ],
   "source": [
    "user_log.filter(user_log.artist == \"Coldplay\").count()"
   ]
  },
  {
   "cell_type": "markdown",
   "metadata": {},
   "source": [
    "# Question 5 (challenge)\n",
    "\n",
    "How many songs do users listen to on average between visiting our home page? Please round your answer to the closest integer.\n",
    "\n"
   ]
  },
  {
   "cell_type": "code",
   "execution_count": 17,
   "metadata": {},
   "outputs": [
    {
     "data": {
      "text/plain": [
       "964"
      ]
     },
     "execution_count": 17,
     "metadata": {},
     "output_type": "execute_result"
    }
   ],
   "source": [
    "# TODO: write your code to answer question 5\n",
    "user_log.select(\"userId\").dropDuplicates().count()"
   ]
  },
  {
   "cell_type": "code",
   "execution_count": 24,
   "metadata": {},
   "outputs": [
    {
     "name": "stdout",
     "output_type": "stream",
     "text": [
      "root\n",
      " |-- artist: string (nullable = true)\n",
      " |-- auth: string (nullable = true)\n",
      " |-- firstName: string (nullable = true)\n",
      " |-- gender: string (nullable = true)\n",
      " |-- itemInSession: long (nullable = true)\n",
      " |-- lastName: string (nullable = true)\n",
      " |-- length: double (nullable = true)\n",
      " |-- level: string (nullable = true)\n",
      " |-- location: string (nullable = true)\n",
      " |-- method: string (nullable = true)\n",
      " |-- page: string (nullable = true)\n",
      " |-- registration: long (nullable = true)\n",
      " |-- sessionId: long (nullable = true)\n",
      " |-- song: string (nullable = true)\n",
      " |-- status: long (nullable = true)\n",
      " |-- ts: long (nullable = true)\n",
      " |-- userAgent: string (nullable = true)\n",
      " |-- userId: string (nullable = true)\n",
      "\n"
     ]
    }
   ],
   "source": [
    "user_log.printSchema()"
   ]
  },
  {
   "cell_type": "code",
   "execution_count": 34,
   "metadata": {},
   "outputs": [
    {
     "name": "stdout",
     "output_type": "stream",
     "text": [
      "+----+\n",
      "|song|\n",
      "+----+\n",
      "|null|\n",
      "|null|\n",
      "|null|\n",
      "|null|\n",
      "|null|\n",
      "|null|\n",
      "|null|\n",
      "|null|\n",
      "|null|\n",
      "|null|\n",
      "|null|\n",
      "|null|\n",
      "|null|\n",
      "|null|\n",
      "|null|\n",
      "|null|\n",
      "|null|\n",
      "|null|\n",
      "|null|\n",
      "|null|\n",
      "+----+\n",
      "only showing top 20 rows\n",
      "\n"
     ]
    }
   ],
   "source": [
    "user_log.select('song').filter(user_log.page == \"Home\").show()"
   ]
  },
  {
   "cell_type": "code",
   "execution_count": 31,
   "metadata": {},
   "outputs": [
    {
     "data": {
      "text/plain": [
       "8.880994671403197"
      ]
     },
     "execution_count": 31,
     "metadata": {},
     "output_type": "execute_result"
    }
   ],
   "source": [
    "10000/1126"
   ]
  },
  {
   "cell_type": "code",
   "execution_count": null,
   "metadata": {},
   "outputs": [],
   "source": []
  }
 ],
 "metadata": {
  "kernelspec": {
   "display_name": "Python 3",
   "language": "python",
   "name": "python3"
  },
  "language_info": {
   "codemirror_mode": {
    "name": "ipython",
    "version": 3
   },
   "file_extension": ".py",
   "mimetype": "text/x-python",
   "name": "python",
   "nbconvert_exporter": "python",
   "pygments_lexer": "ipython3",
   "version": "3.6.3"
  }
 },
 "nbformat": 4,
 "nbformat_minor": 2
}
